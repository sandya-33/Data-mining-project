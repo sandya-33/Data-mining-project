{
 "cells": [
  {
   "cell_type": "code",
   "execution_count": 2,
   "id": "b1f13fff-9490-4fd8-b38a-175c20412e24",
   "metadata": {},
   "outputs": [],
   "source": [
    "import pandas as pd\n",
    "df = pd.read_csv('/home/sandyap/DM project/labels.csv')"
   ]
  },
  {
   "cell_type": "code",
   "execution_count": 5,
   "id": "f1dbd101-307d-4b48-a379-5bd8246fe349",
   "metadata": {},
   "outputs": [
    {
     "name": "stdout",
     "output_type": "stream",
     "text": [
      "Filename                       0\n",
      "Recognizable-Facial-Feature    0\n",
      "Brain-Feature-Loss             0\n",
      "dtype: int64\n",
      "['Yes' 'No']\n",
      "['No' 'Yes']\n"
     ]
    }
   ],
   "source": [
    "missing_labels = df.isnull().sum()\n",
    "incorrect_labels1 = df['Recognizable-Facial-Feature'].unique()\n",
    "incorrect_labels2= df['Brain-Feature-Loss'].unique()\n",
    "print(missing_labels)\n",
    "print(incorrect_labels1)\n",
    "print(incorrect_labels2)"
   ]
  },
  {
   "cell_type": "code",
   "execution_count": 6,
   "id": "eebd8e58-1bed-4af2-b8bf-aec104ff1ddc",
   "metadata": {},
   "outputs": [],
   "source": [
    "df.loc[df['Recognizable-Facial-Feature'] == 'incorrect_label1', 'Recognizable-Facial-Feature'] = 'correct_label'"
   ]
  },
  {
   "cell_type": "code",
   "execution_count": 7,
   "id": "157362b2-27dc-4940-ae09-21e710e7ed90",
   "metadata": {},
   "outputs": [],
   "source": [
    "df.loc[df['Brain-Feature-Loss'] == 'incorrect_label2', 'Brain-Feature-Loss'] = 'correct_label'"
   ]
  },
  {
   "cell_type": "code",
   "execution_count": 8,
   "id": "09a6cbe4-6343-4878-98aa-24ea96675820",
   "metadata": {},
   "outputs": [],
   "source": [
    "from sklearn.impute import SimpleImputer\n",
    "imputer = SimpleImputer(strategy='most_frequent')\n",
    "df[['Recognizable-Facial-Feature', 'Brain-Feature-Loss']] = imputer.fit_transform(df[['Recognizable-Facial-Feature', 'Brain-Feature-Loss']])"
   ]
  },
  {
   "cell_type": "code",
   "execution_count": 9,
   "id": "5a7ead06-337e-41d8-8c1d-81509942150e",
   "metadata": {},
   "outputs": [
    {
     "data": {
      "text/plain": [
       "No     1347\n",
       "Yes     713\n",
       "Name: Recognizable-Facial-Feature, dtype: int64"
      ]
     },
     "execution_count": 9,
     "metadata": {},
     "output_type": "execute_result"
    }
   ],
   "source": [
    "label_distribution = df['Recognizable-Facial-Feature'].value_counts()\n",
    "label_distribution"
   ]
  },
  {
   "cell_type": "code",
   "execution_count": 24,
   "id": "3893a1f2-114d-4d6b-8aef-812750b2ff7b",
   "metadata": {},
   "outputs": [],
   "source": [
    "df.to_csv('cleaned_labels.csv', index=False)"
   ]
  },
  {
   "cell_type": "code",
   "execution_count": null,
   "id": "27f9f7cd-d580-431a-8263-a2c485898fea",
   "metadata": {},
   "outputs": [],
   "source": []
  }
 ],
 "metadata": {
  "kernelspec": {
   "display_name": "Python 3 (ipykernel)",
   "language": "python",
   "name": "python3"
  },
  "language_info": {
   "codemirror_mode": {
    "name": "ipython",
    "version": 3
   },
   "file_extension": ".py",
   "mimetype": "text/x-python",
   "name": "python",
   "nbconvert_exporter": "python",
   "pygments_lexer": "ipython3",
   "version": "3.9.12"
  }
 },
 "nbformat": 4,
 "nbformat_minor": 5
}

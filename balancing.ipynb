{
 "cells": [
  {
   "cell_type": "code",
   "execution_count": 3,
   "id": "d8dd3305-ee42-48ee-a852-70f0fe95a234",
   "metadata": {},
   "outputs": [],
   "source": [
    "import pandas as pd\n",
    "import numpy as np\n",
    "\n",
    "# Read the labels.csv file\n",
    "labels_df = pd.read_csv('/home/sandyap/DM project/labels.csv')\n",
    "\n",
    "# Separate the data by feature\n",
    "facial_features_df = labels_df[['Filename', 'Recognizable-Facial-Feature']]\n",
    "brain_voxels_df = labels_df[['Filename', 'Brain-Feature-Loss']]\n",
    "\n",
    "# Get the number of samples for each class in each feature\n",
    "facial_features_counts = facial_features_df['Recognizable-Facial-Feature'].value_counts()\n",
    "brain_voxels_counts = brain_voxels_df['Brain-Feature-Loss'].value_counts()\n",
    "\n",
    "# Determine which class has fewer samples for each feature\n",
    "facial_features_minority_class = facial_features_counts.idxmin()\n",
    "brain_voxels_minority_class = brain_voxels_counts.idxmin()\n",
    "\n",
    "# Determine the number of samples in the minority class for each feature\n",
    "facial_features_min_count = facial_features_counts.min()\n",
    "brain_voxels_min_count = brain_voxels_counts.min()\n",
    "\n",
    "# Sample the larger group to get the same number of samples as the smaller group for each feature\n",
    "facial_features_majority_class_df = facial_features_df[facial_features_df['Recognizable-Facial-Feature'] != facial_features_minority_class]\n",
    "facial_features_balanced_df = pd.concat([facial_features_df[facial_features_df['Recognizable-Facial-Feature'] == facial_features_minority_class], facial_features_majority_class_df.sample(facial_features_min_count)], axis=0)\n",
    "\n",
    "brain_voxels_majority_class_df = brain_voxels_df[brain_voxels_df['Brain-Feature-Loss'] != brain_voxels_minority_class]\n",
    "brain_voxels_balanced_df = pd.concat([brain_voxels_df[brain_voxels_df['Brain-Feature-Loss'] == brain_voxels_minority_class], brain_voxels_majority_class_df.sample(brain_voxels_min_count)], axis=0)\n",
    "\n",
    "# Merge the two balanced features and shuffle the data\n",
    "balanced_df = pd.merge(facial_features_balanced_df, brain_voxels_balanced_df, on='Filename', how='inner')\n",
    "balanced_df = balanced_df.sample(frac=1).reset_index(drop=True)\n",
    "\n",
    "balanced_df.to_csv('balanced_labels.csv', index=False)"
   ]
  },
  {
   "cell_type": "code",
   "execution_count": null,
   "id": "c17aa232-027b-4b5c-b5f2-123a8737a22d",
   "metadata": {},
   "outputs": [],
   "source": []
  }
 ],
 "metadata": {
  "kernelspec": {
   "display_name": "Python 3 (ipykernel)",
   "language": "python",
   "name": "python3"
  },
  "language_info": {
   "codemirror_mode": {
    "name": "ipython",
    "version": 3
   },
   "file_extension": ".py",
   "mimetype": "text/x-python",
   "name": "python",
   "nbconvert_exporter": "python",
   "pygments_lexer": "ipython3",
   "version": "3.9.12"
  }
 },
 "nbformat": 4,
 "nbformat_minor": 5
}
